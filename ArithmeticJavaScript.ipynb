{
 "cells": [
  {
   "cell_type": "markdown",
   "metadata": {},
   "source": [
    "### Simple Arithmetic - Adding and Subtracting Sequences\n",
    "Others: JavaScript - [ArithmeticPython](ArithmeticPython.ipynb)"
   ]
  },
  {
   "cell_type": "markdown",
   "metadata": {},
   "source": [
    "#### JavaScript - Add"
   ]
  },
  {
   "cell_type": "code",
   "execution_count": 1,
   "metadata": {},
   "outputs": [
    {
     "data": {
      "text/plain": [
       "7"
      ]
     },
     "execution_count": 1,
     "metadata": {},
     "output_type": "execute_result"
    }
   ],
   "source": [
    "4 + 3 // adding numbers together"
   ]
  },
  {
   "cell_type": "markdown",
   "metadata": {},
   "source": [
    "#### JavaScript - Subtract"
   ]
  },
  {
   "cell_type": "code",
   "execution_count": 2,
   "metadata": {},
   "outputs": [
    {
     "data": {
      "text/plain": [
       "2"
      ]
     },
     "execution_count": 2,
     "metadata": {},
     "output_type": "execute_result"
    }
   ],
   "source": [
    "5 - 3 // subtracting number(s) from one another"
   ]
  },
  {
   "cell_type": "markdown",
   "metadata": {},
   "source": [
    "#### JavaScript - Sigma Notation \\( \\sigma \\ \\Sigma \\)\n",
    "\n",
    "Sigma notation indicates adding a series of items together based on an incremental\n",
    "\n",
    "\\begin{equation*}\n",
    "\\left( \\sum_{n=1}^u n + 1 \\right) \n",
    "\\end{equation*}\n"
   ]
  },
  {
   "cell_type": "code",
   "execution_count": 22,
   "metadata": {},
   "outputs": [
    {
     "name": "stdout",
     "output_type": "stream",
     "text": [
      "sum 9\n",
      "sum2 9\n"
     ]
    },
    {
     "data": {
      "text/plain": [
       "undefined"
      ]
     },
     "execution_count": 22,
     "metadata": {},
     "output_type": "execute_result"
    }
   ],
   "source": [
    "\n",
    "sum = 0;\n",
    "u = 3; // this upper bound of the incrementer\n",
    "\n",
    "for (n = 1; n <= u; n++){\n",
    "    sum += n + 1;\n",
    "}\n",
    "// this executes as follows:\n",
    "// first = 1 + 1 -> 2\n",
    "// second = 2 + 1 -> 3\n",
    "// third = 3 + 1 -> 4\n",
    "// the result is first + second + third\n",
    "console.log(\"sum\", sum)\n",
    "\n",
    "// ES2015 --------------------------- //\n",
    "var sum2 = 0;\n",
    "for (let n = 1; n <= u; n++){\n",
    "    sum2 += n + 1;\n",
    "}\n",
    "console.log(\"sum2\", sum2)\n"
   ]
  },
  {
   "cell_type": "code",
   "execution_count": null,
   "metadata": {},
   "outputs": [],
   "source": []
  }
 ],
 "metadata": {
  "kernelspec": {
   "display_name": "Javascript (Node.js)",
   "language": "javascript",
   "name": "javascript"
  },
  "language_info": {
   "file_extension": ".js",
   "mimetype": "application/javascript",
   "name": "javascript",
   "version": "8.11.3"
  }
 },
 "nbformat": 4,
 "nbformat_minor": 2
}
