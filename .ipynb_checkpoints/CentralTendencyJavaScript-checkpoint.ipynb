{
 "cells": [
  {
   "cell_type": "markdown",
   "metadata": {},
   "source": [
    "### Central Tendency - Mean, Median and Mode\n",
    "Others: Python - [CentralTendencyPython](CentralTendencyPython.ipynb)"
   ]
  },
  {
   "cell_type": "markdown",
   "metadata": {},
   "source": [
    "#### Javascript - Arrays\n",
    "\n",
    "Python arrays are lists of items. They are similar to lists in Python."
   ]
  },
  {
   "cell_type": "code",
   "execution_count": 7,
   "metadata": {},
   "outputs": [
    {
     "data": {
      "text/plain": [
       "[ 3, 5, 6 ]"
      ]
     },
     "execution_count": 7,
     "metadata": {},
     "output_type": "execute_result"
    }
   ],
   "source": [
    "var list1 = [\"a\", \"b\", \"c\"] // an array containing a, b, and c\n",
    "\n",
    "var list2 = [3, 5, 6] // an array containing 3, 5, and 6\n",
    "\n",
    "var list3 = [\"s\", 5, list2] // an array containing a character, \n",
    "// an integer, and a list\n",
    "\n",
    "list2"
   ]
  },
  {
   "cell_type": "markdown",
   "metadata": {},
   "source": [
    "#### Javascript - Matrices\n",
    "\n",
    "There are many types of matrices but at the start, let's consider the matrix like a table with rows. Or, rows and columns if you prefer."
   ]
  },
  {
   "cell_type": "code",
   "execution_count": 6,
   "metadata": {},
   "outputs": [
    {
     "data": {
      "text/plain": [
       "[ [ 3, 5, 6, 4 ], [ 2, 3, 1, 3 ], [ 5, 6, 1, 2 ] ]"
      ]
     },
     "execution_count": 6,
     "metadata": {},
     "output_type": "execute_result"
    }
   ],
   "source": [
    "matrix = [\n",
    "    [3, 5, 6], \n",
    "    [2, 3, 1], \n",
    "    [5, 6, 1]\n",
    "]\n",
    "// the above is a 3x3 matrix\n",
    "\n",
    "matrix2 = [\n",
    "    [3, 5, 6, 4], \n",
    "    [2, 3, 1, 3], \n",
    "    [5, 6, 1, 2]\n",
    "]\n",
    "// the above is a 3x4 matrix"
   ]
  },
  {
   "cell_type": "code",
   "execution_count": null,
   "metadata": {},
   "outputs": [],
   "source": []
  }
 ],
 "metadata": {
  "kernelspec": {
   "display_name": "Javascript (Node.js)",
   "language": "javascript",
   "name": "javascript"
  },
  "language_info": {
   "file_extension": ".js",
   "mimetype": "application/javascript",
   "name": "javascript",
   "version": "8.11.3"
  }
 },
 "nbformat": 4,
 "nbformat_minor": 2
}
