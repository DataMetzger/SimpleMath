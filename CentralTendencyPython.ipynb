{
 "cells": [
  {
   "cell_type": "markdown",
   "metadata": {},
   "source": [
    "### Central Tendency - Mean, Median and Mode\n",
    "Others: JavaScript - [CentralTendencyJavaScript](CentralTendencyJavaScript.ipynb)"
   ]
  },
  {
   "cell_type": "markdown",
   "metadata": {},
   "source": [
    "#### Python - Lists\n",
    "\n",
    "Python lists are similar to arrays in other programming languages."
   ]
  },
  {
   "cell_type": "code",
   "execution_count": 17,
   "metadata": {},
   "outputs": [],
   "source": [
    "list1 = [\"a\", \"b\", \"c\"] # a list containing a, b, and c\n",
    "\n",
    "list2 = [3, 5, 6] # a list containing 3, 5, and 6\n",
    "\n",
    "list3 = [\"s\", 5, list2] # a list containing a character, \n",
    "# an integer, and a list"
   ]
  },
  {
   "cell_type": "markdown",
   "metadata": {},
   "source": [
    "#### Python - Matrices\n",
    "\n",
    "There are many types of matrices but at the start, let's consider the matrix like a table with rows. Or, rows and columns if you prefer."
   ]
  },
  {
   "cell_type": "code",
   "execution_count": 18,
   "metadata": {},
   "outputs": [],
   "source": [
    "matrix = [\n",
    "    [3, 5, 6], \n",
    "    [2, 3, 1], \n",
    "    [5, 6, 1]\n",
    "]\n",
    "# the above is a 3x3 matrix\n",
    "\n",
    "matrix2 = [\n",
    "    [3, 5, 6, 4], \n",
    "    [2, 3, 1, 3], \n",
    "    [5, 6, 1, 2]\n",
    "]\n",
    "# the above is a 3x4 matrix"
   ]
  },
  {
   "cell_type": "markdown",
   "metadata": {},
   "source": [
    "#### Python - Mean\n",
    "\n",
    "\\begin{equation*}\n",
    "\\bar{x} = {\\frac{1}{u}} \\sum_{i=1}^u n_{i}\n",
    "\\end{equation*}\n",
    " \n",
    "the mean is an sum accumulation of all of the terms divided by the total number of terms. \n"
   ]
  },
  {
   "cell_type": "code",
   "execution_count": 12,
   "metadata": {},
   "outputs": [
    {
     "data": {
      "text/plain": [
       "4.666666666666667"
      ]
     },
     "execution_count": 12,
     "metadata": {},
     "output_type": "execute_result"
    }
   ],
   "source": [
    "sum = 0\n",
    "for term in list2: \n",
    "    sum += term\n",
    "# the sum of 3 + 5 + 6 -> 14\n",
    "    \n",
    "    \n",
    "# the number of terms is the len() of the items\n",
    "# in list2\n",
    "terms = len(list2)\n",
    "mean = sum/terms # 14/3\n",
    "mean"
   ]
  },
  {
   "cell_type": "markdown",
   "metadata": {},
   "source": [
    "#### Python - Median"
   ]
  },
  {
   "cell_type": "code",
   "execution_count": null,
   "metadata": {},
   "outputs": [],
   "source": []
  },
  {
   "cell_type": "markdown",
   "metadata": {},
   "source": [
    "#### Python - Mode"
   ]
  },
  {
   "cell_type": "code",
   "execution_count": null,
   "metadata": {},
   "outputs": [],
   "source": []
  }
 ],
 "metadata": {
  "kernelspec": {
   "display_name": "Python 3",
   "language": "python",
   "name": "python3"
  },
  "language_info": {
   "codemirror_mode": {
    "name": "ipython",
    "version": 3
   },
   "file_extension": ".py",
   "mimetype": "text/x-python",
   "name": "python",
   "nbconvert_exporter": "python",
   "pygments_lexer": "ipython3",
   "version": "3.6.5"
  }
 },
 "nbformat": 4,
 "nbformat_minor": 2
}
